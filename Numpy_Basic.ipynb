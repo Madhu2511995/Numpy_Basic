{
 "cells": [
  {
   "cell_type": "markdown",
   "id": "46eb9af7-cf7e-4556-886a-78bbe88bac7e",
   "metadata": {},
   "source": [
    "#### Consider the below code to answer further questions:\n",
    "#### import numpy as np\n",
    "#### list_ = [ ‘1’ , ’2’ , ‘3’ , ‘4’ , ‘5’ ]\n",
    "#### array_list = np.array(object = list_)\n",
    "\n",
    "#### Q1. Is there any difference in the data type of variables list_ and array_list? If there is then write a code to print the data types of both the variables.\n",
    "\n",
    "#### Q2. Write a code to print the data type of each and every element of both the variables list_ andarra_list.\n",
    "\n",
    "#### Q3. Considering the following changes in the variable, array_list: array_list = np.array(object = list_, dtype = int) Will there be any difference in the data type of the elements present in both the variables, list_ and arra_list? If so then print the data types of each and every element present in both the variables, list_and arra_list.\n",
    "#### Consider the below code to answer further questions:\n",
    "\n",
    "#### import numpy as np\n",
    "#### num_list = [ [ 1 , 2 , 3 ] , [ 4 , 5 , 6 ] ]\n",
    "#### num_array = np.array(object = num_list)\n",
    "\n",
    "#### Q4. Write a code to find the following characteristics of variable, num_array:\n",
    "#### (i) shape\n",
    "#### (ii) size\n",
    "\n",
    "#### Q5. Write a code to create numpy array of 3*3 matrix containing zeros only, using a numpy array creation function.\n",
    "#### [Hint: The size of the array will be 9 and the shape will be (3,3).]\n",
    "\n",
    "#### Q6. Create an identity matrix of shape (5,5) using numpy functions?\n",
    "#### [Hint: An identity matrix is a matrix containing 1 diagonally and other elements will be 0.]\n",
    "\n",
    "####\n"
   ]
  },
  {
   "cell_type": "markdown",
   "id": "cc8c7935-ac4e-4778-9c88-07025c30646f",
   "metadata": {},
   "source": [
    "## Answers"
   ]
  },
  {
   "cell_type": "markdown",
   "id": "786fad17-3d4f-4df2-9836-d6c67bb9e3e7",
   "metadata": {},
   "source": [
    "### Q1. Is there any difference in the data type of variables list_ and array_list? If there is then write a code to print the data types of both the variables."
   ]
  },
  {
   "cell_type": "code",
   "execution_count": 3,
   "id": "ffde0a37-d18e-404e-a8b1-a93d49ce3b7c",
   "metadata": {},
   "outputs": [],
   "source": [
    "import numpy as np"
   ]
  },
  {
   "cell_type": "code",
   "execution_count": 4,
   "id": "54d266d7-e371-4150-8055-2cb38dbdcf3b",
   "metadata": {},
   "outputs": [],
   "source": [
    "list_ = [1,2,3,4,5,6]\n",
    "array_list = np.array(object = list_)"
   ]
  },
  {
   "cell_type": "code",
   "execution_count": 5,
   "id": "feff8c6a-8265-4d21-aa75-116a7e356bc9",
   "metadata": {},
   "outputs": [
    {
     "data": {
      "text/plain": [
       "array([1, 2, 3, 4, 5, 6])"
      ]
     },
     "execution_count": 5,
     "metadata": {},
     "output_type": "execute_result"
    }
   ],
   "source": [
    "array_list"
   ]
  },
  {
   "cell_type": "markdown",
   "id": "38cb411d-bdbd-4026-806d-86859de10717",
   "metadata": {},
   "source": [
    "### Q1. Is there any difference in the data type of variables list_ and array_list? If there is then write a code to print the data types of both the variables."
   ]
  },
  {
   "cell_type": "code",
   "execution_count": 6,
   "id": "d4e04511-01e9-4459-87b3-e9e37414a0b8",
   "metadata": {},
   "outputs": [
    {
     "data": {
      "text/plain": [
       "list"
      ]
     },
     "execution_count": 6,
     "metadata": {},
     "output_type": "execute_result"
    }
   ],
   "source": [
    "type(list_)"
   ]
  },
  {
   "cell_type": "code",
   "execution_count": 7,
   "id": "4ecdd49d-a127-4cc9-a16b-373839f58dfa",
   "metadata": {},
   "outputs": [
    {
     "data": {
      "text/plain": [
       "numpy.ndarray"
      ]
     },
     "execution_count": 7,
     "metadata": {},
     "output_type": "execute_result"
    }
   ],
   "source": [
    "type(array_list)"
   ]
  },
  {
   "cell_type": "markdown",
   "id": "19a116b9-3d91-4173-a545-3ca0b33d3e25",
   "metadata": {},
   "source": [
    "#### list_ is a type of list variable but array_list is the type of ndarry"
   ]
  },
  {
   "cell_type": "markdown",
   "id": "f233f5a1-c05c-4c2d-ace4-a4cdb5b6c778",
   "metadata": {},
   "source": [
    "### Q2. Write a code to print the data type of each and every element of both the variables list_ and arra_list."
   ]
  },
  {
   "cell_type": "code",
   "execution_count": 8,
   "id": "23826749-4a01-4657-804d-01f41c8a8af6",
   "metadata": {},
   "outputs": [
    {
     "name": "stdout",
     "output_type": "stream",
     "text": [
      "<class 'int'>\n",
      "<class 'int'>\n",
      "<class 'int'>\n",
      "<class 'int'>\n",
      "<class 'int'>\n",
      "<class 'int'>\n"
     ]
    }
   ],
   "source": [
    "for i in list_:\n",
    "    print(type(i))"
   ]
  },
  {
   "cell_type": "code",
   "execution_count": 15,
   "id": "c13c8eaa-34a6-456d-8b33-759dc5738357",
   "metadata": {},
   "outputs": [
    {
     "name": "stdout",
     "output_type": "stream",
     "text": [
      "<class 'numpy.int64'>\n",
      "<class 'numpy.int64'>\n",
      "<class 'numpy.int64'>\n",
      "<class 'numpy.int64'>\n",
      "<class 'numpy.int64'>\n",
      "<class 'numpy.int64'>\n"
     ]
    }
   ],
   "source": [
    "for i in array_list[0:7]:\n",
    "    print(type(i))"
   ]
  },
  {
   "cell_type": "markdown",
   "id": "48888cca-f8ab-4eec-8a24-e777d6a5c267",
   "metadata": {},
   "source": [
    "### Q3. Considering the following changes in the variable, array_list: array_list = np.array(object = list_, dtype = int) Will there be any difference in the data type of the elements present in both the variables, list_ and arra_list? If so then print the data types of each and every element present in both the variables, list_and arra_list.¶"
   ]
  },
  {
   "cell_type": "code",
   "execution_count": 16,
   "id": "b85648fc-27ec-4891-bbde-adee141619fa",
   "metadata": {},
   "outputs": [],
   "source": [
    "array_list = np.array(object = list_, dtype = int)"
   ]
  },
  {
   "cell_type": "code",
   "execution_count": 17,
   "id": "e58a1df8-8976-4ac2-91ec-86e7c54f9607",
   "metadata": {},
   "outputs": [
    {
     "data": {
      "text/plain": [
       "array([1, 2, 3, 4, 5, 6])"
      ]
     },
     "execution_count": 17,
     "metadata": {},
     "output_type": "execute_result"
    }
   ],
   "source": [
    "array_list"
   ]
  },
  {
   "cell_type": "code",
   "execution_count": 19,
   "id": "5eb391d3-993f-4aa9-a1a8-2d495b20cbf1",
   "metadata": {},
   "outputs": [
    {
     "name": "stdout",
     "output_type": "stream",
     "text": [
      "<class 'numpy.int64'>\n",
      "<class 'numpy.int64'>\n",
      "<class 'numpy.int64'>\n",
      "<class 'numpy.int64'>\n",
      "<class 'numpy.int64'>\n",
      "<class 'numpy.int64'>\n"
     ]
    }
   ],
   "source": [
    "for i in array_list:\n",
    "    print(type(i))"
   ]
  },
  {
   "cell_type": "code",
   "execution_count": null,
   "id": "2e4634c3-e264-4e85-bd9f-400955fce370",
   "metadata": {},
   "outputs": [],
   "source": []
  },
  {
   "cell_type": "code",
   "execution_count": 22,
   "id": "3e5284f8-ba25-4ed1-96c8-773a828af9bc",
   "metadata": {},
   "outputs": [
    {
     "data": {
      "text/plain": [
       "array([[1, 2, 3],\n",
       "       [4, 5, 6]])"
      ]
     },
     "execution_count": 22,
     "metadata": {},
     "output_type": "execute_result"
    }
   ],
   "source": [
    "num_list = [ [ 1 , 2 , 3 ] , [ 4 , 5 , 6 ] ]\n",
    "num_array = np.array(object = num_list)\n",
    "num_array"
   ]
  },
  {
   "cell_type": "markdown",
   "id": "98999ce3-f143-48f6-82a1-166343203101",
   "metadata": {},
   "source": [
    "### Q4. Write a code to find the following characteristics of variable, num_array:\n",
    "### (i) shape\n",
    "### (ii) size"
   ]
  },
  {
   "cell_type": "code",
   "execution_count": 24,
   "id": "1533cbea-ba7c-4938-8a39-302b8443776b",
   "metadata": {},
   "outputs": [
    {
     "data": {
      "text/plain": [
       "6"
      ]
     },
     "execution_count": 24,
     "metadata": {},
     "output_type": "execute_result"
    }
   ],
   "source": [
    "num_array.size"
   ]
  },
  {
   "cell_type": "code",
   "execution_count": 25,
   "id": "1470b7c2-53b5-4b5c-8261-669d985e4b1a",
   "metadata": {},
   "outputs": [
    {
     "data": {
      "text/plain": [
       "(2, 3)"
      ]
     },
     "execution_count": 25,
     "metadata": {},
     "output_type": "execute_result"
    }
   ],
   "source": [
    "num_array.shape"
   ]
  },
  {
   "cell_type": "markdown",
   "id": "02f880cb-e5b6-4d7c-b5eb-138543dfefac",
   "metadata": {},
   "source": [
    "### Q5. Write a code to create numpy array of 3*3 matrix containing zeros only, using a numpy array creation function.\n",
    "### [Hint: The size of the array will be 9 and the shape will be (3,3).]"
   ]
  },
  {
   "cell_type": "code",
   "execution_count": 33,
   "id": "fa99c7b4-0f75-44f8-b2d9-220f8a1db186",
   "metadata": {},
   "outputs": [],
   "source": [
    "import numpy.matlib as nm"
   ]
  },
  {
   "cell_type": "code",
   "execution_count": 37,
   "id": "cdb02333-30b8-4e3d-8e38-134b15069674",
   "metadata": {},
   "outputs": [
    {
     "data": {
      "text/plain": [
       "matrix([[0., 0., 0.],\n",
       "        [0., 0., 0.],\n",
       "        [0., 0., 0.]])"
      ]
     },
     "execution_count": 37,
     "metadata": {},
     "output_type": "execute_result"
    }
   ],
   "source": [
    "arr=nm.zeros((3,3))\n",
    "arr"
   ]
  },
  {
   "cell_type": "markdown",
   "id": "a6c659b8-973c-44ab-9f70-966b0f9cf31e",
   "metadata": {},
   "source": [
    "### Q6. Create an identity matrix of shape (5,5) using numpy functions?\n",
    "### [Hint: An identity matrix is a matrix containing 1 diagonally and other elements will be 0.]"
   ]
  },
  {
   "cell_type": "code",
   "execution_count": 38,
   "id": "d954edf9-4ff2-4529-ae35-44144412c352",
   "metadata": {},
   "outputs": [],
   "source": [
    "arr=nm.eye(5)"
   ]
  },
  {
   "cell_type": "code",
   "execution_count": 39,
   "id": "33184374-c400-4a69-8213-a3f9a5757231",
   "metadata": {},
   "outputs": [
    {
     "data": {
      "text/plain": [
       "matrix([[1., 0., 0., 0., 0.],\n",
       "        [0., 1., 0., 0., 0.],\n",
       "        [0., 0., 1., 0., 0.],\n",
       "        [0., 0., 0., 1., 0.],\n",
       "        [0., 0., 0., 0., 1.]])"
      ]
     },
     "execution_count": 39,
     "metadata": {},
     "output_type": "execute_result"
    }
   ],
   "source": [
    "arr"
   ]
  },
  {
   "cell_type": "code",
   "execution_count": null,
   "id": "d7905bfc-25b8-4db5-8d62-e5e7ea1b8856",
   "metadata": {},
   "outputs": [],
   "source": []
  },
  {
   "cell_type": "code",
   "execution_count": null,
   "id": "8d336c3e-d850-431f-ace5-b5dbce97cd38",
   "metadata": {},
   "outputs": [],
   "source": []
  },
  {
   "cell_type": "code",
   "execution_count": null,
   "id": "9547c314-8f8c-4de4-b951-3b5bd04a7f07",
   "metadata": {},
   "outputs": [],
   "source": []
  },
  {
   "cell_type": "code",
   "execution_count": null,
   "id": "a4ac0d65-6089-421e-b049-7c5a32b21880",
   "metadata": {},
   "outputs": [],
   "source": []
  },
  {
   "cell_type": "code",
   "execution_count": null,
   "id": "1e0ff3fa-62ea-40f2-9efd-0c42660bd6ac",
   "metadata": {},
   "outputs": [],
   "source": []
  },
  {
   "cell_type": "code",
   "execution_count": null,
   "id": "8eba382e-2bdd-47f7-8287-5ee9806903fb",
   "metadata": {},
   "outputs": [],
   "source": []
  },
  {
   "cell_type": "code",
   "execution_count": null,
   "id": "00e2b36b-cf93-4b4b-ace2-efd6250ecb35",
   "metadata": {},
   "outputs": [],
   "source": []
  },
  {
   "cell_type": "code",
   "execution_count": null,
   "id": "6b7f0694-6873-4107-9e06-bfe720ef45a0",
   "metadata": {},
   "outputs": [],
   "source": []
  },
  {
   "cell_type": "code",
   "execution_count": null,
   "id": "8cd7f6ed-525f-453f-99d2-fb8077c2ae0f",
   "metadata": {},
   "outputs": [],
   "source": []
  },
  {
   "cell_type": "code",
   "execution_count": null,
   "id": "1cba8548-1f5f-4c05-9519-a10b4790b9ce",
   "metadata": {},
   "outputs": [],
   "source": []
  },
  {
   "cell_type": "code",
   "execution_count": null,
   "id": "b670a6b0-e9bc-4181-b884-788be9e9b4a1",
   "metadata": {},
   "outputs": [],
   "source": []
  },
  {
   "cell_type": "code",
   "execution_count": null,
   "id": "e04b5d25-4b4b-4abe-9d79-842694b7306d",
   "metadata": {},
   "outputs": [],
   "source": []
  },
  {
   "cell_type": "code",
   "execution_count": null,
   "id": "20bcd269-5450-42e4-adb4-0e94af5bc457",
   "metadata": {},
   "outputs": [],
   "source": []
  },
  {
   "cell_type": "code",
   "execution_count": null,
   "id": "221f4ece-8513-4fb2-8ee9-f1d0868c1c55",
   "metadata": {},
   "outputs": [],
   "source": []
  },
  {
   "cell_type": "code",
   "execution_count": null,
   "id": "337efaf4-a367-4bb1-acc5-75c0d34ebc6c",
   "metadata": {},
   "outputs": [],
   "source": []
  },
  {
   "cell_type": "code",
   "execution_count": null,
   "id": "79ba7bd4-fc3a-4972-abe0-124f4126caf5",
   "metadata": {},
   "outputs": [],
   "source": []
  }
 ],
 "metadata": {
  "kernelspec": {
   "display_name": "Python 3 (ipykernel)",
   "language": "python",
   "name": "python3"
  },
  "language_info": {
   "codemirror_mode": {
    "name": "ipython",
    "version": 3
   },
   "file_extension": ".py",
   "mimetype": "text/x-python",
   "name": "python",
   "nbconvert_exporter": "python",
   "pygments_lexer": "ipython3",
   "version": "3.10.8"
  }
 },
 "nbformat": 4,
 "nbformat_minor": 5
}
